{
 "cells": [
  {
   "cell_type": "code",
   "execution_count": 1,
   "metadata": {},
   "outputs": [
    {
     "name": "stderr",
     "output_type": "stream",
     "text": [
      "c:\\users\\yc\\appdata\\local\\programs\\python\\python36\\lib\\site-packages\\h5py\\__init__.py:36: FutureWarning: Conversion of the second argument of issubdtype from `float` to `np.floating` is deprecated. In future, it will be treated as `np.float64 == np.dtype(float).type`.\n",
      "  from ._conv import register_converters as _register_converters\n"
     ]
    }
   ],
   "source": [
    "import tensorflow as tf\n",
    "import numpy as np\n",
    "\n",
    "n_steps = 28\n",
    "n_inputs = 28\n",
    "n_neurons = 150\n",
    "n_outputs = 10    #Mnist\n",
    "learning_rate = 0.001\n"
   ]
  },
  {
   "cell_type": "code",
   "execution_count": 3,
   "metadata": {},
   "outputs": [],
   "source": [
    "X = tf.placeholder(tf.float32, [None, n_steps, n_inputs])\n",
    "y = tf.placeholder(tf.int32, [None])\n",
    "\n",
    "basic_cell = tf.contrib.rnn.BasicRNNCell(num_units=n_neurons)\n",
    "outputs, states = tf.nn.dynamic_rnn(basic_cell, X, dtype=tf.float32)\n",
    "\n",
    "logits = tf.layers.dense(states, n_outputs)\n",
    "xentropy = tf.nn.sparse_softmax_cross_entropy_with_logits(labels=y, logits=logits)\n",
    "\n",
    "loss = tf.reduce_mean(xentropy)\n",
    "optimizer = tf.train.AdamOptimizer(learning_rate=learning_rate)\n",
    "\n",
    "training_op = optimizer.minimize(loss)\n",
    "correct = tf.nn.in_top_k(logits, y, 1)\n",
    "accuracy = tf.reduce_mean(tf.cast(correct, tf.float32))\n",
    "\n",
    "init = tf.global_variables_initializer()\n"
   ]
  },
  {
   "cell_type": "code",
   "execution_count": 8,
   "metadata": {},
   "outputs": [
    {
     "name": "stdout",
     "output_type": "stream",
     "text": [
      "Extracting /tmp/data/train-images-idx3-ubyte.gz\n",
      "Extracting /tmp/data/train-labels-idx1-ubyte.gz\n",
      "Extracting /tmp/data/t10k-images-idx3-ubyte.gz\n",
      "Extracting /tmp/data/t10k-labels-idx1-ubyte.gz\n"
     ]
    }
   ],
   "source": [
    "#Loading and Reshaping MNIST data\n",
    "from tensorflow.examples.tutorials.mnist import input_data\n",
    "\n",
    "mnist = input_data.read_data_sets(\"/tmp/data/\")\n",
    "X_test = mnist.test.images.reshape((-1, n_steps, n_inputs))\n",
    "y_test = mnist.test.labels\n"
   ]
  },
  {
   "cell_type": "code",
   "execution_count": 9,
   "metadata": {},
   "outputs": [
    {
     "name": "stdout",
     "output_type": "stream",
     "text": [
      "Epoch #0; Train accuracy = 0.9333333373069763, Test Accuracy = 0.9333333373069763\n",
      "Epoch #1; Train accuracy = 0.95333331823349, Test Accuracy = 0.95333331823349\n",
      "Epoch #2; Train accuracy = 0.9866666793823242, Test Accuracy = 0.9866666793823242\n",
      "Epoch #3; Train accuracy = 0.9399999976158142, Test Accuracy = 0.9399999976158142\n",
      "Epoch #4; Train accuracy = 0.9933333396911621, Test Accuracy = 0.9933333396911621\n",
      "Epoch #5; Train accuracy = 0.9866666793823242, Test Accuracy = 0.9866666793823242\n",
      "Epoch #6; Train accuracy = 0.9733333587646484, Test Accuracy = 0.9733333587646484\n",
      "Epoch #7; Train accuracy = 0.9866666793823242, Test Accuracy = 0.9866666793823242\n",
      "Epoch #8; Train accuracy = 0.9733333587646484, Test Accuracy = 0.9733333587646484\n",
      "Epoch #9; Train accuracy = 0.9866666793823242, Test Accuracy = 0.9866666793823242\n",
      "Epoch #10; Train accuracy = 1.0, Test Accuracy = 1.0\n",
      "Epoch #11; Train accuracy = 0.9866666793823242, Test Accuracy = 0.9866666793823242\n",
      "Epoch #12; Train accuracy = 0.9866666793823242, Test Accuracy = 0.9866666793823242\n",
      "Epoch #13; Train accuracy = 0.9933333396911621, Test Accuracy = 0.9933333396911621\n",
      "Epoch #14; Train accuracy = 0.9733333587646484, Test Accuracy = 0.9733333587646484\n",
      "Epoch #15; Train accuracy = 0.9800000190734863, Test Accuracy = 0.9800000190734863\n",
      "Epoch #16; Train accuracy = 0.9933333396911621, Test Accuracy = 0.9933333396911621\n",
      "Epoch #17; Train accuracy = 0.9933333396911621, Test Accuracy = 0.9933333396911621\n",
      "Epoch #18; Train accuracy = 0.9800000190734863, Test Accuracy = 0.9800000190734863\n",
      "Epoch #19; Train accuracy = 0.9933333396911621, Test Accuracy = 0.9933333396911621\n",
      "Epoch #20; Train accuracy = 0.9866666793823242, Test Accuracy = 0.9866666793823242\n",
      "Epoch #21; Train accuracy = 1.0, Test Accuracy = 1.0\n",
      "Epoch #22; Train accuracy = 0.9800000190734863, Test Accuracy = 0.9800000190734863\n",
      "Epoch #23; Train accuracy = 0.9866666793823242, Test Accuracy = 0.9866666793823242\n",
      "Epoch #24; Train accuracy = 1.0, Test Accuracy = 1.0\n",
      "Epoch #25; Train accuracy = 1.0, Test Accuracy = 1.0\n",
      "Epoch #26; Train accuracy = 0.9933333396911621, Test Accuracy = 0.9933333396911621\n",
      "Epoch #27; Train accuracy = 0.9933333396911621, Test Accuracy = 0.9933333396911621\n",
      "Epoch #28; Train accuracy = 0.9866666793823242, Test Accuracy = 0.9866666793823242\n",
      "Epoch #29; Train accuracy = 0.9866666793823242, Test Accuracy = 0.9866666793823242\n",
      "Epoch #30; Train accuracy = 0.9866666793823242, Test Accuracy = 0.9866666793823242\n",
      "Epoch #31; Train accuracy = 0.9733333587646484, Test Accuracy = 0.9733333587646484\n",
      "Epoch #32; Train accuracy = 0.9866666793823242, Test Accuracy = 0.9866666793823242\n",
      "Epoch #33; Train accuracy = 0.9866666793823242, Test Accuracy = 0.9866666793823242\n",
      "Epoch #34; Train accuracy = 0.9866666793823242, Test Accuracy = 0.9866666793823242\n",
      "Epoch #35; Train accuracy = 0.9933333396911621, Test Accuracy = 0.9933333396911621\n",
      "Epoch #36; Train accuracy = 0.9866666793823242, Test Accuracy = 0.9866666793823242\n",
      "Epoch #37; Train accuracy = 0.9933333396911621, Test Accuracy = 0.9933333396911621\n",
      "Epoch #38; Train accuracy = 0.9733333587646484, Test Accuracy = 0.9733333587646484\n",
      "Epoch #39; Train accuracy = 0.9933333396911621, Test Accuracy = 0.9933333396911621\n",
      "Epoch #40; Train accuracy = 0.9933333396911621, Test Accuracy = 0.9933333396911621\n",
      "Epoch #41; Train accuracy = 0.9800000190734863, Test Accuracy = 0.9800000190734863\n",
      "Epoch #42; Train accuracy = 0.9933333396911621, Test Accuracy = 0.9933333396911621\n",
      "Epoch #43; Train accuracy = 0.9933333396911621, Test Accuracy = 0.9933333396911621\n",
      "Epoch #44; Train accuracy = 0.9866666793823242, Test Accuracy = 0.9866666793823242\n",
      "Epoch #45; Train accuracy = 0.9933333396911621, Test Accuracy = 0.9933333396911621\n",
      "Epoch #46; Train accuracy = 0.9866666793823242, Test Accuracy = 0.9866666793823242\n",
      "Epoch #47; Train accuracy = 1.0, Test Accuracy = 1.0\n",
      "Epoch #48; Train accuracy = 0.9933333396911621, Test Accuracy = 0.9933333396911621\n",
      "Epoch #49; Train accuracy = 0.9733333587646484, Test Accuracy = 0.9733333587646484\n",
      "Epoch #50; Train accuracy = 1.0, Test Accuracy = 1.0\n",
      "Epoch #51; Train accuracy = 0.9933333396911621, Test Accuracy = 0.9933333396911621\n",
      "Epoch #52; Train accuracy = 1.0, Test Accuracy = 1.0\n",
      "Epoch #53; Train accuracy = 0.9866666793823242, Test Accuracy = 0.9866666793823242\n",
      "Epoch #54; Train accuracy = 1.0, Test Accuracy = 1.0\n",
      "Epoch #55; Train accuracy = 0.9933333396911621, Test Accuracy = 0.9933333396911621\n",
      "Epoch #56; Train accuracy = 0.9933333396911621, Test Accuracy = 0.9933333396911621\n",
      "Epoch #57; Train accuracy = 0.9933333396911621, Test Accuracy = 0.9933333396911621\n",
      "Epoch #58; Train accuracy = 1.0, Test Accuracy = 1.0\n",
      "Epoch #59; Train accuracy = 0.9933333396911621, Test Accuracy = 0.9933333396911621\n",
      "Epoch #60; Train accuracy = 0.9933333396911621, Test Accuracy = 0.9933333396911621\n",
      "Epoch #61; Train accuracy = 0.9933333396911621, Test Accuracy = 0.9933333396911621\n",
      "Epoch #62; Train accuracy = 1.0, Test Accuracy = 1.0\n",
      "Epoch #63; Train accuracy = 0.9933333396911621, Test Accuracy = 0.9933333396911621\n",
      "Epoch #64; Train accuracy = 0.9866666793823242, Test Accuracy = 0.9866666793823242\n",
      "Epoch #65; Train accuracy = 1.0, Test Accuracy = 1.0\n",
      "Epoch #66; Train accuracy = 0.9933333396911621, Test Accuracy = 0.9933333396911621\n",
      "Epoch #67; Train accuracy = 0.9866666793823242, Test Accuracy = 0.9866666793823242\n",
      "Epoch #68; Train accuracy = 0.9866666793823242, Test Accuracy = 0.9866666793823242\n",
      "Epoch #69; Train accuracy = 0.9933333396911621, Test Accuracy = 0.9933333396911621\n",
      "Epoch #70; Train accuracy = 0.9866666793823242, Test Accuracy = 0.9866666793823242\n",
      "Epoch #71; Train accuracy = 0.9933333396911621, Test Accuracy = 0.9933333396911621\n",
      "Epoch #72; Train accuracy = 0.9933333396911621, Test Accuracy = 0.9933333396911621\n",
      "Epoch #73; Train accuracy = 0.9933333396911621, Test Accuracy = 0.9933333396911621\n",
      "Epoch #74; Train accuracy = 0.95333331823349, Test Accuracy = 0.95333331823349\n",
      "Epoch #75; Train accuracy = 0.9933333396911621, Test Accuracy = 0.9933333396911621\n",
      "Epoch #76; Train accuracy = 0.9800000190734863, Test Accuracy = 0.9800000190734863\n",
      "Epoch #77; Train accuracy = 1.0, Test Accuracy = 1.0\n",
      "Epoch #78; Train accuracy = 1.0, Test Accuracy = 1.0\n",
      "Epoch #79; Train accuracy = 0.9800000190734863, Test Accuracy = 0.9800000190734863\n",
      "Epoch #80; Train accuracy = 0.9933333396911621, Test Accuracy = 0.9933333396911621\n",
      "Epoch #81; Train accuracy = 0.9933333396911621, Test Accuracy = 0.9933333396911621\n",
      "Epoch #82; Train accuracy = 0.9866666793823242, Test Accuracy = 0.9866666793823242\n",
      "Epoch #83; Train accuracy = 1.0, Test Accuracy = 1.0\n",
      "Epoch #84; Train accuracy = 0.9933333396911621, Test Accuracy = 0.9933333396911621\n",
      "Epoch #85; Train accuracy = 0.9933333396911621, Test Accuracy = 0.9933333396911621\n",
      "Epoch #86; Train accuracy = 0.9800000190734863, Test Accuracy = 0.9800000190734863\n",
      "Epoch #87; Train accuracy = 0.9933333396911621, Test Accuracy = 0.9933333396911621\n",
      "Epoch #88; Train accuracy = 0.9933333396911621, Test Accuracy = 0.9933333396911621\n",
      "Epoch #89; Train accuracy = 0.9800000190734863, Test Accuracy = 0.9800000190734863\n",
      "Epoch #90; Train accuracy = 0.9933333396911621, Test Accuracy = 0.9933333396911621\n",
      "Epoch #91; Train accuracy = 1.0, Test Accuracy = 1.0\n",
      "Epoch #92; Train accuracy = 0.9866666793823242, Test Accuracy = 0.9866666793823242\n",
      "Epoch #93; Train accuracy = 0.9933333396911621, Test Accuracy = 0.9933333396911621\n",
      "Epoch #94; Train accuracy = 1.0, Test Accuracy = 1.0\n",
      "Epoch #95; Train accuracy = 0.9933333396911621, Test Accuracy = 0.9933333396911621\n",
      "Epoch #96; Train accuracy = 1.0, Test Accuracy = 1.0\n",
      "Epoch #97; Train accuracy = 0.9933333396911621, Test Accuracy = 0.9933333396911621\n",
      "Epoch #98; Train accuracy = 1.0, Test Accuracy = 1.0\n",
      "Epoch #99; Train accuracy = 0.9933333396911621, Test Accuracy = 0.9933333396911621\n"
     ]
    }
   ],
   "source": [
    "#Execution phase\n",
    "\n",
    "n_epochs = 100\n",
    "batch_size = 150\n",
    "n_iterations = mnist.train.num_examples // batch_size\n",
    "\n",
    "with tf.Session() as sess:\n",
    "    init.run()\n",
    "    for epoch in range(n_epochs):\n",
    "        for iteration in range(n_iterations):\n",
    "            X_batch, y_batch = mnist.train.next_batch(batch_size)\n",
    "            X_batch = X_batch.reshape((-1, n_steps, n_inputs))\n",
    "            sess.run(training_op, feed_dict={X:X_batch, y:y_batch})\n",
    "            \n",
    "        acc_train = accuracy.eval(feed_dict={X:X_batch, y:y_batch})\n",
    "        acc_test = accuracy.eval(feed_dict={X:X_batch, y:y_batch})\n",
    "        \n",
    "        print(\"Epoch #{}; Train accuracy = {}, Test Accuracy = {}\".format(epoch, acc_train, acc_test))\n",
    "            "
   ]
  },
  {
   "cell_type": "code",
   "execution_count": null,
   "metadata": {},
   "outputs": [],
   "source": []
  },
  {
   "cell_type": "code",
   "execution_count": null,
   "metadata": {},
   "outputs": [],
   "source": []
  },
  {
   "cell_type": "code",
   "execution_count": null,
   "metadata": {},
   "outputs": [],
   "source": []
  }
 ],
 "metadata": {
  "kernelspec": {
   "display_name": "Python 3",
   "language": "python",
   "name": "python3"
  },
  "language_info": {
   "codemirror_mode": {
    "name": "ipython",
    "version": 3
   },
   "file_extension": ".py",
   "mimetype": "text/x-python",
   "name": "python",
   "nbconvert_exporter": "python",
   "pygments_lexer": "ipython3",
   "version": "3.6.3"
  }
 },
 "nbformat": 4,
 "nbformat_minor": 2
}
